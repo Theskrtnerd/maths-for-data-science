{
 "cells": [
  {
   "cell_type": "markdown",
   "id": "d4b1e6ca",
   "metadata": {},
   "source": [
    "In this question you will explore the relationship between the binomial distribution and the Poisson distribution.\n",
    "\n",
    "You should only require commands from Python which have been encountered in previous Computer Pracs, along with an understanding of these distributions based on the course materials. \n"
   ]
  },
  {
   "cell_type": "markdown",
   "id": "45942d78",
   "metadata": {},
   "source": [
    "Suppose that a particular event is found to occur on average 10 times per day. Assuming that the event is equally likely at any time, we model this as a binomial distribution with 24 hourly trials. \n",
    "\n",
    "(a) Define such a binomial distribution (you will need to calculate the probability of success of each trial), with a random varialbe called Xh, and use it to calculate the following\n",
    "\n",
    "i) The probability of exactly 5 events in a 24 hour day. \n",
    "\n",
    "ii) The probability of more than 5 events in a 24 hour day. \n",
    "\n",
    "Remember to import any packages that you need.\n",
    "\n",
    "Note- when supplying multiple answers from one piece of code you should use the print command, for example\n",
    "\n",
    "print(\"the answer for A is\",A)\n",
    "\n",
    "print(\"the answer for B is\",B)\n"
   ]
  },
  {
   "cell_type": "code",
   "execution_count": 10,
   "id": "caede33a",
   "metadata": {},
   "outputs": [
    {
     "name": "stdout",
     "output_type": "stream",
     "text": [
      "The answer for i) is 0.019045513202850715\n",
      "The answer for ii) is 0.972127896649313\n"
     ]
    }
   ],
   "source": [
    "from scipy import stats\n",
    "n = 24\n",
    "p = 10/n\n",
    "Xh = stats.binom(n,p)\n",
    "print(\"The answer for i) is\", Xh.pmf(5))\n",
    "print(\"The answer for ii) is\", 1-Xh.cdf(5))\n"
   ]
  },
  {
   "cell_type": "markdown",
   "id": "8e9ea9b1",
   "metadata": {},
   "source": [
    "(b) Now we try a more accurate model, define a new random variable Xs which assumes a trial every second, so you will need to caculate the appropriate number of trials and probability of success for each trial.\n",
    "\n",
    "Use this to recalculate \n",
    "\n",
    "i) The probability of exactly 5 events in a 24 hour day. \n",
    "\n",
    "ii) The probability of more than 5 events in a 24 hours day. \n"
   ]
  },
  {
   "cell_type": "code",
   "execution_count": 3,
   "id": "56dd071c",
   "metadata": {},
   "outputs": [
    {
     "name": "stdout",
     "output_type": "stream",
     "text": [
      "The answer for i) is 0.03782889570585864\n",
      "The answer for ii) is 0.9329249843334356\n"
     ]
    }
   ],
   "source": [
    "from scipy import stats\n",
    "n = 24*60*60\n",
    "p = 10/n\n",
    "Xs = stats.binom(n,p)\n",
    "print(\"The answer for i) is\", Xs.pmf(5))\n",
    "print(\"The answer for ii) is\", 1-Xs.cdf(5))"
   ]
  },
  {
   "cell_type": "markdown",
   "id": "efefeaa9",
   "metadata": {},
   "source": [
    "(c) Next we use a Poisson distribution instead, you may need to revise it here https://myuni.adelaide.edu.au/courses/85359/pages/week-4-poisson-random-variable?module_item_id=3135760\n",
    "\n",
    "The Poisson distribution has one parameter - the rate at which events occur, i.e. the number of events which occur in some time period.   \n",
    "Define a Poisson random variable Xp which models the same situation above and use it to once again find \n",
    "\n",
    "i) The probability of exactly 5 events in a 24 hour day. \n",
    "\n",
    "ii) The probability of more than 5 events in a 24 hours day. \n"
   ]
  },
  {
   "cell_type": "code",
   "execution_count": 4,
   "id": "4fe1aa59",
   "metadata": {},
   "outputs": [
    {
     "name": "stdout",
     "output_type": "stream",
     "text": [
      "The answer for i) is 0.03783327480207079\n",
      "The answer for ii) is 0.9329140371209681\n"
     ]
    }
   ],
   "source": [
    "from scipy import stats\n",
    "Xp = stats.poisson(10)\n",
    "print(\"The answer for i) is\", Xp.pmf(5))\n",
    "print(\"The answer for ii) is\", 1-Xp.cdf(5))"
   ]
  },
  {
   "cell_type": "markdown",
   "id": "8e5d167e",
   "metadata": {},
   "source": [
    "(d) Produce a bar plot comparing the probability mass functions of your random variables, Xh and Xp, on the same plot. Your plot should cover the domain from 0 to 20 events (the probability of more than 20 is very small)\n",
    "\n",
    "We can try the same for Xs but on the plot it is very similar to Xp (so no need to submit this), we will numerically calculate the difference instead. "
   ]
  },
  {
   "cell_type": "code",
   "execution_count": 8,
   "id": "f2c1541d",
   "metadata": {},
   "outputs": [
    {
     "data": {
      "text/plain": [
       "<BarContainer object of 21 artists>"
      ]
     },
     "execution_count": 8,
     "metadata": {},
     "output_type": "execute_result"
    },
    {
     "data": {
      "image/png": "[encoded data removed]",
      "text/plain": [
       "<Figure size 640x480 with 1 Axes>"
      ]
     },
     "metadata": {},
     "output_type": "display_data"
    }
   ],
   "source": [
    "import matplotlib.pyplot as plt\n",
    "import numpy as np\n",
    "X_axis = np.arange(21)\n",
    "plt.bar(X_axis - 0.2, [Xh.pmf(i) for i in range(21)], 0.4, label='Xh')\n",
    "plt.bar(X_axis + 0.2, [Xp.pmf(i) for i in range(21)], 0.4, label='Xp')"
   ]
  },
  {
   "cell_type": "markdown",
   "id": "01ec3c0e",
   "metadata": {},
   "source": [
    "(e) We wish to compare each of the binomial random variables to the poisson one by a measure of their total difference. One simple way of doing this is by calculating \n",
    "\n",
    "$D(X_1,X_2) = \\sum_{i=0}^{20} |P(X_1 = i) - P(X_2 = i)| $ \n",
    "\n",
    "for two random variables $X_1$ and $X_2$. \n",
    "\n",
    "(You should think about what this is calculating and why the absolute value is used, there are more sophisticated ways of comparing distributions, but this is simple and gives practice in dealing with summation as well). \n",
    "\n",
    "Calculate this $D$ value for each of the pairs Xh,Xp and Xs,Xp. "
   ]
  },
  {
   "cell_type": "code",
   "execution_count": 9,
   "id": "93af80ad",
   "metadata": {},
   "outputs": [
    {
     "name": "stdout",
     "output_type": "stream",
     "text": [
      "The D value for the pair Xh,Xp is 0.26051740165127685\n",
      "The D value for the pair Xs,Xp is 5.5516556619747834e-05\n"
     ]
    }
   ],
   "source": [
    "def D(x1,x2):\n",
    "    d = 0\n",
    "    for i in range(21):\n",
    "        d += abs(x1.pmf(i)-x2.pmf(i))\n",
    "    return d\n",
    "print(\"The D value for the pair Xh,Xp is\",D(Xh,Xp))\n",
    "print(\"The D value for the pair Xs,Xp is\",D(Xs,Xp))"
   ]
  }
 ],
 "metadata": {
  "kernelspec": {
   "display_name": "Python 3 (ipykernel)",
   "language": "python",
   "name": "python3"
  },
  "language_info": {
   "codemirror_mode": {
    "name": "ipython",
    "version": 3
   },
   "file_extension": ".py",
   "mimetype": "text/x-python",
   "name": "python",
   "nbconvert_exporter": "python",
   "pygments_lexer": "ipython3",
   "version": "3.11.5"
  }
 },
 "nbformat": 4,
 "nbformat_minor": 5
}
