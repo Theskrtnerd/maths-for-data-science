{
 "cells": [
  {
   "cell_type": "markdown",
   "id": "51e68e64",
   "metadata": {},
   "source": [
    "5."
   ]
  },
  {
   "cell_type": "markdown",
   "id": "bb0517df",
   "metadata": {},
   "source": [
    " In this question we will fit data in two different ways. \n",
    "\n",
    "Suppose we have the data points $(-1,-6),(1,0),(2,11)$. "
   ]
  },
  {
   "cell_type": "markdown",
   "id": "c2c38522",
   "metadata": {},
   "source": [
    "Part (a). We will use linear regression to find a line of best fit. \n",
    "First enter the design matrix $X$ and the vector $\\mathbf{y}$. \n"
   ]
  },
  {
   "cell_type": "code",
   "execution_count": 1,
   "id": "c8f43aeb",
   "metadata": {},
   "outputs": [],
   "source": [
    "import numpy as np\n",
    "import matplotlib.pyplot as plt\n",
    "\n",
    "# define your matrix X and vector y here \n",
    "\n",
    "X = np.array([[1,-1],[1, 1],[1,2]])\n",
    "y = np.array([-6,0,11])\n"
   ]
  },
  {
   "cell_type": "markdown",
   "id": "f5f9f183",
   "metadata": {},
   "source": [
    "Now use matrix operations in Python to calculate the optimal solution $\\hat{\\beta}$ as defined in the course materials. In your code you can call it beta. "
   ]
  },
  {
   "cell_type": "code",
   "execution_count": 2,
   "id": "edf6d81c",
   "metadata": {},
   "outputs": [
    {
     "name": "stdout",
     "output_type": "stream",
     "text": [
      "[-1.85714286  5.28571429]\n"
     ]
    }
   ],
   "source": [
    "#calculate beta here \n",
    "beta = np.matmul(np.linalg.inv(np.matmul(X.T, X)),np.matmul(X.T, y))\n",
    "\n",
    "# leave in this print command so we can see the result when marking\n",
    "print(beta)"
   ]
  },
  {
   "cell_type": "markdown",
   "id": "754f57ac",
   "metadata": {},
   "source": [
    "The line of best fit is a function $y = mt + c$, with the values of $m$ and $c$ obtained from your calculation above. Define a function in python, $f(t) = mt+c$, using your values obtained above. I am using $t$ as a variable here, as we will be using x for something else. \n",
    "(Note that you should not be typing in rounded values, you should be taking the values from your previous output so they are still kept to maximum accuracy). "
   ]
  },
  {
   "cell_type": "code",
   "execution_count": 3,
   "id": "b5e17c53",
   "metadata": {},
   "outputs": [],
   "source": [
    "#define f(t) here \n",
    "def f(t):\n",
    "    return beta[0] + beta[1]*t\n"
   ]
  },
  {
   "cell_type": "markdown",
   "id": "5d6f4b0e",
   "metadata": {},
   "source": [
    "Part (b). This time we fit a degree 2 polynomial to our data. Let a general degree 2 polynomial be $at^2 + bt +c$. Formulate a system of linear equations which solves this problem, represent it in matrix form $A\\mathbf{x} = \\mathbf{b}$, where $x = (a,b,c)^T$, define $A$ and $\\mathbf{b}$ and then solve the problem.  "
   ]
  },
  {
   "cell_type": "code",
   "execution_count": 5,
   "id": "d656a917",
   "metadata": {},
   "outputs": [
    {
     "name": "stdout",
     "output_type": "stream",
     "text": [
      "[-5.66666667  3.          2.66666667]\n"
     ]
    }
   ],
   "source": [
    "# define A and b here \n",
    "A = np.array([[1, -1, 1], [1, 1, 1], [1, 2, 4]])\n",
    "b = y\n",
    "\n",
    "# solve for x here \n",
    "x = np.matmul(np.linalg.inv(np.matmul(A.T, A)),np.matmul(A.T, b)).T\n",
    "\n",
    "# leave in this print command\n",
    "print(x)\n",
    "\n",
    "# define your polynomial as a function p(t) here\n",
    "def p(t):\n",
    "    return x[2]*(t**2) + x[1]*t +x[0]\n"
   ]
  },
  {
   "cell_type": "markdown",
   "id": "fe2a5020",
   "metadata": {},
   "source": [
    "(c) Finally, we plot both functions we have found together. \n",
    "\n"
   ]
  },
  {
   "cell_type": "code",
   "execution_count": 6,
   "id": "034ec4c0",
   "metadata": {},
   "outputs": [
    {
     "data": {
      "text/plain": [
       "[<matplotlib.lines.Line2D at 0x7f4cd7aca790>]"
      ]
     },
     "execution_count": 6,
     "metadata": {},
     "output_type": "execute_result"
    },
    {
     "data": {
      "image/png": "[encoded data removed]",
      "text/plain": [
       "<Figure size 640x480 with 1 Axes>"
      ]
     },
     "metadata": {},
     "output_type": "display_data"
    }
   ],
   "source": [
    "a = np.arange(-2,4,0.1)\n",
    "# this will plot the data points\n",
    "plt.scatter([-1,1,2],[-6,0,11])\n",
    "# now plot your functions below\n",
    "plt.plot(a, f(a))\n",
    "plt.plot(a, p(a))"
   ]
  }
 ],
 "metadata": {
  "kernelspec": {
   "display_name": "Python 3 (ipykernel)",
   "language": "python",
   "name": "python3"
  },
  "language_info": {
   "codemirror_mode": {
    "name": "ipython",
    "version": 3
   },
   "file_extension": ".py",
   "mimetype": "text/x-python",
   "name": "python",
   "nbconvert_exporter": "python",
   "pygments_lexer": "ipython3",
   "version": "3.11.5"
  }
 },
 "nbformat": 4,
 "nbformat_minor": 5
}
