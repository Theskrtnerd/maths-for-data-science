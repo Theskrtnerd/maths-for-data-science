{
 "cells": [
  {
   "cell_type": "markdown",
   "id": "963b3d36",
   "metadata": {},
   "source": [
    "We are modelling an animal population by dividing them into three stages by age: juveniles (j), yound adults (y) and mature adults (m). \n",
    "Given a population in year $k$ we can predict the population in year $k+1$ by the following set of equations \n",
    "\n",
    "$\\begin{aligned} j_{k+1} &= 0.5 y_k + 0.1m_k \\\\ y_{k+1} &= 0.5j_k + 0.6 y_k \\\\ m_{k+1} &= 0.4y_k + 0.7m_k \\end{aligned}$\n",
    "\n",
    "If we let $\\mathbf{x}_k = (j_k,y_k,m_k)^T$ then we may express this in the form $\\mathbf{x_{k+1}} = A \\mathbf{x_k}$"
   ]
  },
  {
   "cell_type": "code",
   "execution_count": 9,
   "id": "2c0f6a99",
   "metadata": {},
   "outputs": [],
   "source": [
    "import numpy as np\n",
    "#define the matrix A here \n",
    "A = np.array([[0,0.5,0.1], [0.5, 0.6, 0], [0,0.4,0.7]])\n"
   ]
  },
  {
   "cell_type": "markdown",
   "id": "6d54f530",
   "metadata": {},
   "source": [
    "Suppose that we relocate a population of 20 young adults to a new habitat. Find the predicted population after 20 years. Your answer should show the predicted numbers of each of the three stages - juvenile, young adult, mature adult. "
   ]
  },
  {
   "cell_type": "code",
   "execution_count": 10,
   "id": "5e266814",
   "metadata": {},
   "outputs": [
    {
     "name": "stdout",
     "output_type": "stream",
     "text": [
      "[2.83026275 4.06134503 6.53708162]\n"
     ]
    }
   ],
   "source": [
    "# calculate population after 20 years here. \n",
    "x0 = np.array([0,20,0])\n",
    "x20 = np.linalg.matrix_power(A, 20) @ x0\n",
    "print(x20)\n"
   ]
  },
  {
   "cell_type": "markdown",
   "id": "e85c9b7d",
   "metadata": {},
   "source": [
    "You should find that the numbers do not look promising, so we need to take some steps to make this population viable. In the current model we estimate that only half of the juveniles survive to become young adults in the following year. If we can implement some measures to improve this survival rate then we would like to know what is the minimum survival rate we would need in order for the population to be viable. Recall that this requires an eigenvalue to be greater than 1. \n",
    "\n",
    "Set up a loop which calculates the eigenvalues of the matrix $A$, with the relevant entry representing the survival rate of juveniles replaced by a variable s, which increases from 0.5 by increments of 0.01 until we have an eigenvalue which is greater than 1. \n",
    "\n",
    "It may be useful to find the maximum value of an array, one way of doing this is eig.max() for an array called eig.\n"
   ]
  },
  {
   "cell_type": "code",
   "execution_count": 11,
   "id": "9be8d4ba",
   "metadata": {},
   "outputs": [
    {
     "name": "stdout",
     "output_type": "stream",
     "text": [
      "0.64\n"
     ]
    }
   ],
   "source": [
    "#calculation here \n",
    "s = 0.50\n",
    "while True:\n",
    "    A = np.array([[0,0.5,0.1], [s, 0.6, 0], [0,0.4,0.7]])\n",
    "    eig = np.linalg.eigvals(A)\n",
    "    if eig.max() > 1:\n",
    "        break\n",
    "    s += 0.01\n",
    "\n",
    "print(format(s, '.2f'))"
   ]
  },
  {
   "cell_type": "markdown",
   "id": "b14d5860",
   "metadata": {},
   "source": [
    "Now, starting again from the original matrix $A$, suppose instead that we can take measures to improve the rate at which young adults survive to the next year as young adults. In the original model this rate is 0.6. Once again by incremenenting this by 0.01, find the smallest value which guarantees survival of the population. \n"
   ]
  },
  {
   "cell_type": "code",
   "execution_count": 23,
   "id": "a185b759",
   "metadata": {},
   "outputs": [
    {
     "name": "stdout",
     "output_type": "stream",
     "text": [
      "0.69\n"
     ]
    }
   ],
   "source": [
    "#Calculation here \n",
    "s = 0.6\n",
    "while True:\n",
    "    A = np.array([[0,0.5,0.1], [0.5, s, 0], [0,0.4,0.7]])\n",
    "    eig = np.linalg.eigvals(A)\n",
    "    if eig.max() > 1:\n",
    "        break\n",
    "    s += 0.01\n",
    "\n",
    "print(format(s, '.2f'))"
   ]
  }
 ],
 "metadata": {
  "kernelspec": {
   "display_name": "Python 3 (ipykernel)",
   "language": "python",
   "name": "python3"
  },
  "language_info": {
   "codemirror_mode": {
    "name": "ipython",
    "version": 3
   },
   "file_extension": ".py",
   "mimetype": "text/x-python",
   "name": "python",
   "nbconvert_exporter": "python",
   "pygments_lexer": "ipython3",
   "version": "3.11.5"
  }
 },
 "nbformat": 4,
 "nbformat_minor": 5
}
